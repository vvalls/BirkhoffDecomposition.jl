{
 "cells": [
  {
   "cell_type": "code",
   "execution_count": 1,
   "id": "e5547d10",
   "metadata": {},
   "outputs": [],
   "source": [
    "using BirkhoffDecomposition\n",
    "using SparseArrays\n",
    "using Clp \n",
    "using JuMP"
   ]
  },
  {
   "cell_type": "code",
   "execution_count": 2,
   "id": "a78a8901",
   "metadata": {},
   "outputs": [
    {
     "data": {
      "text/plain": [
       "5"
      ]
     },
     "execution_count": 2,
     "metadata": {},
     "output_type": "execute_result"
    }
   ],
   "source": [
    "n = 5"
   ]
  },
  {
   "cell_type": "code",
   "execution_count": 3,
   "id": "32fabcdd",
   "metadata": {},
   "outputs": [],
   "source": [
    "M = zeros(n*n,2*n);\n",
    "for i=1:n\n",
    "    M[(i-1)*n*n + (i-1)*n + 1 : (i-1)*n*n + (i-1)*n + n ] = ones(n,1);\n",
    "end\n",
    "for i=1:n\n",
    "    for j=1:n\n",
    "        M[n*n*n + (i-1)*n*n + (j-1)*n + i] = 1;\n",
    "    end\n",
    "end\n",
    "\n",
    "A = sparse(M');\n",
    "b = ones(2*n);"
   ]
  },
  {
   "cell_type": "code",
   "execution_count": null,
   "id": "9f3ee593",
   "metadata": {},
   "outputs": [],
   "source": [
    "using HiGHS\n",
    "model = Model(HiGHS.Optimizer)\n",
    "set_attribute(model, \"LogLevel\", 1)\n",
    "set_attribute(model, \"Algorithm\", 4)"
   ]
  },
  {
   "cell_type": "code",
   "execution_count": null,
   "id": "7fb4efda",
   "metadata": {},
   "outputs": [],
   "source": [
    "@variable(model, 0 <= x[1:n*n] <= 1)\n",
    "@constraint(model, A * x .== b)"
   ]
  },
  {
   "cell_type": "code",
   "execution_count": null,
   "id": "e5d9d706",
   "metadata": {},
   "outputs": [],
   "source": [
    "struct polytope\n",
    "    A;\n",
    "    b;\n",
    "    l;\n",
    "    u;\n",
    "    model;\n",
    "    x;\n",
    "end"
   ]
  },
  {
   "cell_type": "code",
   "execution_count": null,
   "id": "7e3176dc",
   "metadata": {},
   "outputs": [],
   "source": [
    "P = polytope(A,b,0,1,model,x)"
   ]
  },
  {
   "cell_type": "code",
   "execution_count": null,
   "id": "97b46108",
   "metadata": {},
   "outputs": [],
   "source": [
    "P.A"
   ]
  },
  {
   "cell_type": "code",
   "execution_count": null,
   "id": "b1906f93",
   "metadata": {},
   "outputs": [],
   "source": [
    "c = ones(n*n)\n",
    "@objective(P.model, Min, c'* P.x)"
   ]
  },
  {
   "cell_type": "code",
   "execution_count": null,
   "id": "18058cba",
   "metadata": {},
   "outputs": [],
   "source": [
    "print(model)"
   ]
  },
  {
   "cell_type": "code",
   "execution_count": null,
   "id": "7fe8c5c7",
   "metadata": {},
   "outputs": [],
   "source": [
    "optimize!(model)"
   ]
  },
  {
   "cell_type": "code",
   "execution_count": null,
   "id": "f433b96d",
   "metadata": {},
   "outputs": [],
   "source": [
    "value.(P.x)"
   ]
  },
  {
   "cell_type": "code",
   "execution_count": null,
   "id": "2a3a6e0e",
   "metadata": {},
   "outputs": [],
   "source": []
  }
 ],
 "metadata": {
  "kernelspec": {
   "display_name": "Julia 1.9.4",
   "language": "julia",
   "name": "julia-1.9"
  },
  "language_info": {
   "file_extension": ".jl",
   "mimetype": "application/julia",
   "name": "julia",
   "version": "1.9.4"
  }
 },
 "nbformat": 4,
 "nbformat_minor": 5
}
