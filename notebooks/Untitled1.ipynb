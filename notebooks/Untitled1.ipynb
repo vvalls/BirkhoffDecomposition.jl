{
 "cells": [
  {
   "cell_type": "code",
   "execution_count": 2,
   "id": "eef92fdc",
   "metadata": {},
   "outputs": [],
   "source": [
    "using Clp, JuMP\n",
    "using HiGHS"
   ]
  },
  {
   "cell_type": "code",
   "execution_count": 3,
   "id": "b972dea0",
   "metadata": {},
   "outputs": [
    {
     "data": {
      "text/plain": [
       "A JuMP Model\n",
       "Feasibility problem with:\n",
       "Variables: 0\n",
       "Model mode: AUTOMATIC\n",
       "CachingOptimizer state: EMPTY_OPTIMIZER\n",
       "Solver name: HiGHS"
      ]
     },
     "execution_count": 3,
     "metadata": {},
     "output_type": "execute_result"
    }
   ],
   "source": [
    "model = Model(HiGHS.Optimizer)\n",
    "#set_attribute(model, \"LogLevel\", 1)\n",
    "#set_attribute(model, \"Algorithm\", 4)"
   ]
  },
  {
   "cell_type": "code",
   "execution_count": 4,
   "id": "3a317fe3",
   "metadata": {},
   "outputs": [
    {
     "data": {
      "text/latex": [
       "$$ \\begin{aligned}\n",
       "\\max\\quad & 5 x_{1} + 3 x_{2} + 2 x_{3} + 7 x_{4} + 4 x_{5}\\\\\n",
       "\\text{Subject to} \\quad & 2 x_{1} + 8 x_{2} + 4 x_{3} + 2 x_{4} + 5 x_{5} \\leq 10\\\\\n",
       " & x_{1} \\in \\{0, 1\\}\\\\\n",
       " & x_{2} \\in \\{0, 1\\}\\\\\n",
       " & x_{3} \\in \\{0, 1\\}\\\\\n",
       " & x_{4} \\in \\{0, 1\\}\\\\\n",
       " & x_{5} \\in \\{0, 1\\}\\\\\n",
       "\\end{aligned} $$"
      ]
     },
     "metadata": {},
     "output_type": "display_data"
    },
    {
     "name": "stdout",
     "output_type": "stream",
     "text": [
      "Running HiGHS 1.6.0: Copyright (c) 2023 HiGHS under MIT licence terms\n",
      "Presolving model\n",
      "1 rows, 5 cols, 5 nonzeros\n",
      "1 rows, 4 cols, 4 nonzeros\n",
      "Objective function is integral with scale 1\n",
      "\n",
      "Solving MIP model with:\n",
      "   1 rows\n",
      "   4 cols (4 binary, 0 integer, 0 implied int., 0 continuous)\n",
      "   4 nonzeros\n",
      "\n",
      "        Nodes      |    B&B Tree     |            Objective Bounds              |  Dynamic Constraints |       Work      \n",
      "     Proc. InQueue |  Leaves   Expl. | BestBound       BestSol              Gap |   Cuts   InLp Confl. | LpIters     Time\n",
      "\n",
      "         0       0         0   0.00%   18              -inf                 inf        0      0      0         0     0.0s\n",
      "\n",
      "Solving report\n",
      "  Status            Optimal\n",
      "  Primal bound      16\n",
      "  Dual bound        16\n",
      "  Gap               0% (tolerance: 0.01%)\n",
      "  Solution status   feasible\n",
      "                    16 (objective)\n",
      "                    0 (bound viol.)\n",
      "                    0 (int. viol.)\n",
      "                    0 (row viol.)\n",
      "  Timing            0.00 (total)\n",
      "                    0.00 (presolve)\n",
      "                    0.00 (postsolve)\n",
      "  Nodes             1\n",
      "  LP iterations     1 (total)\n",
      "                    0 (strong br.)\n",
      "                    0 (separation)\n",
      "                    0 (heuristics)\n"
     ]
    },
    {
     "data": {
      "text/plain": [
       "* Solver : HiGHS\n",
       "\n",
       "* Status\n",
       "  Result count       : 1\n",
       "  Termination status : OPTIMAL\n",
       "  Message from the solver:\n",
       "  \"kHighsModelStatusOptimal\"\n",
       "\n",
       "* Candidate solution (result #1)\n",
       "  Primal status      : FEASIBLE_POINT\n",
       "  Dual status        : NO_SOLUTION\n",
       "  Objective value    : 1.60000e+01\n",
       "  Objective bound    : 1.60000e+01\n",
       "  Relative gap       : 0.00000e+00\n",
       "\n",
       "* Work counters\n",
       "  Solve time (sec)   : 6.16916e-04\n",
       "  Simplex iterations : 1\n",
       "  Barrier iterations : -1\n",
       "  Node count         : 1\n"
      ]
     },
     "execution_count": 4,
     "metadata": {},
     "output_type": "execute_result"
    }
   ],
   "source": [
    "n = 5;\n",
    "capacity = 10.0;\n",
    "profit = [5.0, 3.0, 2.0, 7.0, 4.0];\n",
    "weight = [2.0, 8.0, 4.0, 2.0, 5.0];\n",
    "model = Model(HiGHS.Optimizer)\n",
    "@variable(model, x[1:n], Bin)\n",
    "@constraint(model, sum(weight[i] * x[i] for i in 1:n) <= capacity)\n",
    "@objective(model, Max, sum(profit[i] * x[i] for i in 1:n))\n",
    "print(model)\n",
    "optimize!(model)\n",
    "solution_summary(model)"
   ]
  },
  {
   "cell_type": "code",
   "execution_count": null,
   "id": "099e0a5a",
   "metadata": {},
   "outputs": [],
   "source": []
  }
 ],
 "metadata": {
  "kernelspec": {
   "display_name": "Julia 1.9.4",
   "language": "julia",
   "name": "julia-1.9"
  },
  "language_info": {
   "file_extension": ".jl",
   "mimetype": "application/julia",
   "name": "julia",
   "version": "1.9.4"
  }
 },
 "nbformat": 4,
 "nbformat_minor": 5
}
