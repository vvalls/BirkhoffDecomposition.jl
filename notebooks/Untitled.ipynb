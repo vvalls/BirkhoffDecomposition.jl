{
 "cells": [
  {
   "cell_type": "code",
   "execution_count": 1,
   "id": "e5547d10",
   "metadata": {},
   "outputs": [],
   "source": [
    "using BirkhoffDecomposition\n",
    "using SparseArrays\n",
    "using Clp \n",
    "using JuMP"
   ]
  },
  {
   "cell_type": "code",
   "execution_count": 2,
   "id": "a78a8901",
   "metadata": {},
   "outputs": [
    {
     "data": {
      "text/plain": [
       "5"
      ]
     },
     "execution_count": 2,
     "metadata": {},
     "output_type": "execute_result"
    }
   ],
   "source": [
    "n = 5"
   ]
  },
  {
   "cell_type": "code",
   "execution_count": 3,
   "id": "32fabcdd",
   "metadata": {},
   "outputs": [],
   "source": [
    "M = zeros(n*n,2*n);\n",
    "for i=1:n\n",
    "    M[(i-1)*n*n + (i-1)*n + 1 : (i-1)*n*n + (i-1)*n + n ] = ones(n,1);\n",
    "end\n",
    "for i=1:n\n",
    "    for j=1:n\n",
    "        M[n*n*n + (i-1)*n*n + (j-1)*n + i] = 1;\n",
    "    end\n",
    "end\n",
    "\n",
    "A = sparse(M');\n",
    "b = ones(2*n);"
   ]
  },
  {
   "cell_type": "code",
   "execution_count": 4,
   "id": "25b4d53d",
   "metadata": {},
   "outputs": [
    {
     "data": {
      "text/plain": [
       "A JuMP Model\n",
       "Feasibility problem with:\n",
       "Variables: 0\n",
       "Model mode: AUTOMATIC\n",
       "CachingOptimizer state: EMPTY_OPTIMIZER\n",
       "Solver name: HiGHS"
      ]
     },
     "execution_count": 4,
     "metadata": {},
     "output_type": "execute_result"
    }
   ],
   "source": [
    "using HiGHS\n",
    "model = Model(HiGHS.Optimizer)"
   ]
  },
  {
   "cell_type": "code",
   "execution_count": 5,
   "id": "9068d968",
   "metadata": {},
   "outputs": [
    {
     "data": {
      "text/plain": [
       "10-element Vector{ConstraintRef{Model, MathOptInterface.ConstraintIndex{MathOptInterface.ScalarAffineFunction{Float64}, MathOptInterface.EqualTo{Float64}}, ScalarShape}}:\n",
       " x[1] + x[2] + x[3] + x[4] + x[5] = 1\n",
       " x[6] + x[7] + x[8] + x[9] + x[10] = 1\n",
       " x[11] + x[12] + x[13] + x[14] + x[15] = 1\n",
       " x[16] + x[17] + x[18] + x[19] + x[20] = 1\n",
       " x[21] + x[22] + x[23] + x[24] + x[25] = 1\n",
       " x[1] + x[6] + x[11] + x[16] + x[21] = 1\n",
       " x[2] + x[7] + x[12] + x[17] + x[22] = 1\n",
       " x[3] + x[8] + x[13] + x[18] + x[23] = 1\n",
       " x[4] + x[9] + x[14] + x[19] + x[24] = 1\n",
       " x[5] + x[10] + x[15] + x[20] + x[25] = 1"
      ]
     },
     "execution_count": 5,
     "metadata": {},
     "output_type": "execute_result"
    }
   ],
   "source": [
    "@variable(model, 0 <= x[1:n*n] <= 1)\n",
    "@constraint(model, A * x .== b)"
   ]
  },
  {
   "cell_type": "code",
   "execution_count": 6,
   "id": "29a0bccd",
   "metadata": {},
   "outputs": [],
   "source": [
    "struct polytope\n",
    "    A;\n",
    "    b;\n",
    "    l;\n",
    "    u;\n",
    "    model;\n",
    "    x;\n",
    "end"
   ]
  },
  {
   "cell_type": "code",
   "execution_count": 7,
   "id": "1d86eb88",
   "metadata": {},
   "outputs": [
    {
     "data": {
      "text/plain": [
       "polytope(sparse([1, 6, 1, 7, 1, 8, 1, 9, 1, 10  …  5, 6, 5, 7, 5, 8, 5, 9, 5, 10], [1, 1, 2, 2, 3, 3, 4, 4, 5, 5, 6, 6, 7, 7, 8, 8, 9, 9, 10, 10, 11, 11, 12, 12, 13, 13, 14, 14, 15, 15, 16, 16, 17, 17, 18, 18, 19, 19, 20, 20, 21, 21, 22, 22, 23, 23, 24, 24, 25, 25], [1.0, 1.0, 1.0, 1.0, 1.0, 1.0, 1.0, 1.0, 1.0, 1.0  …  1.0, 1.0, 1.0, 1.0, 1.0, 1.0, 1.0, 1.0, 1.0, 1.0], 10, 25), [1.0, 1.0, 1.0, 1.0, 1.0, 1.0, 1.0, 1.0, 1.0, 1.0], 0, 1, A JuMP Model\n",
       "Feasibility problem with:\n",
       "Variables: 25\n",
       "`AffExpr`-in-`MathOptInterface.EqualTo{Float64}`: 10 constraints\n",
       "`VariableRef`-in-`MathOptInterface.GreaterThan{Float64}`: 25 constraints\n",
       "`VariableRef`-in-`MathOptInterface.LessThan{Float64}`: 25 constraints\n",
       "Model mode: AUTOMATIC\n",
       "CachingOptimizer state: EMPTY_OPTIMIZER\n",
       "Solver name: HiGHS\n",
       "Names registered in the model: x, VariableRef[x[1], x[2], x[3], x[4], x[5], x[6], x[7], x[8], x[9], x[10]  …  x[16], x[17], x[18], x[19], x[20], x[21], x[22], x[23], x[24], x[25]])"
      ]
     },
     "execution_count": 7,
     "metadata": {},
     "output_type": "execute_result"
    }
   ],
   "source": [
    "P = polytope(A,b,0,1,model,x)"
   ]
  },
  {
   "cell_type": "code",
   "execution_count": 8,
   "id": "b8f113a2",
   "metadata": {},
   "outputs": [
    {
     "data": {
      "text/plain": [
       "10×25 SparseMatrixCSC{Float64, Int64} with 50 stored entries:\n",
       "⎡⠉⠉⠑⠒⠒⠤⠤⢄⣀⣀⠀⠀⠀⎤\n",
       "⎢⠢⡀⠐⢄⠀⠢⡀⠐⢄⠀⠫⡉⠁⎥\n",
       "⎣⠀⠈⠂⠀⠑⠀⠈⠂⠀⠑⠀⠈⠂⎦"
      ]
     },
     "execution_count": 8,
     "metadata": {},
     "output_type": "execute_result"
    }
   ],
   "source": [
    "P.A"
   ]
  },
  {
   "cell_type": "code",
   "execution_count": 9,
   "id": "b6e2bdb2",
   "metadata": {},
   "outputs": [
    {
     "data": {
      "text/latex": [
       "$ x_{1} + x_{2} + x_{3} + x_{4} + x_{5} + x_{6} + x_{7} + x_{8} + x_{9} + x_{10} + x_{11} + x_{12} + x_{13} + x_{14} + x_{15} + x_{16} + x_{17} + x_{18} + x_{19} + x_{20} + x_{21} + x_{22} + x_{23} + x_{24} + x_{25} $"
      ],
      "text/plain": [
       "x[1] + x[2] + x[3] + x[4] + x[5] + x[6] + x[7] + x[8] + x[9] + x[10] + x[11] + x[12] + x[13] + x[14] + x[15] + x[16] + x[17] + x[18] + x[19] + x[20] + x[21] + x[22] + x[23] + x[24] + x[25]"
      ]
     },
     "execution_count": 9,
     "metadata": {},
     "output_type": "execute_result"
    }
   ],
   "source": [
    "c = ones(n*n)\n",
    "@objective(P.model, Min, c'* P.x)"
   ]
  },
  {
   "cell_type": "code",
   "execution_count": 10,
   "id": "b76fc134",
   "metadata": {},
   "outputs": [
    {
     "data": {
      "text/latex": [
       "$$ \\begin{aligned}\n",
       "\\min\\quad & x_{1} + x_{2} + x_{3} + x_{4} + x_{5} + x_{6} + x_{7} + x_{8} + x_{9} + x_{10} + x_{11} + x_{12} + x_{13} + x_{14} + x_{15} + x_{16} + x_{17} + x_{18} + x_{19} + x_{20} + x_{21} + x_{22} + x_{23} + x_{24} + x_{25}\\\\\n",
       "\\text{Subject to} \\quad & x_{1} + x_{2} + x_{3} + x_{4} + x_{5} = 1\\\\\n",
       " & x_{6} + x_{7} + x_{8} + x_{9} + x_{10} = 1\\\\\n",
       " & x_{11} + x_{12} + x_{13} + x_{14} + x_{15} = 1\\\\\n",
       " & x_{16} + x_{17} + x_{18} + x_{19} + x_{20} = 1\\\\\n",
       " & x_{21} + x_{22} + x_{23} + x_{24} + x_{25} = 1\\\\\n",
       " & x_{1} + x_{6} + x_{11} + x_{16} + x_{21} = 1\\\\\n",
       " & x_{2} + x_{7} + x_{12} + x_{17} + x_{22} = 1\\\\\n",
       " & x_{3} + x_{8} + x_{13} + x_{18} + x_{23} = 1\\\\\n",
       " & x_{4} + x_{9} + x_{14} + x_{19} + x_{24} = 1\\\\\n",
       " & x_{5} + x_{10} + x_{15} + x_{20} + x_{25} = 1\\\\\n",
       " & x_{1} \\geq 0\\\\\n",
       " & x_{2} \\geq 0\\\\\n",
       " & x_{3} \\geq 0\\\\\n",
       " & x_{4} \\geq 0\\\\\n",
       " & x_{5} \\geq 0\\\\\n",
       " & x_{6} \\geq 0\\\\\n",
       " & x_{7} \\geq 0\\\\\n",
       " & x_{8} \\geq 0\\\\\n",
       " & x_{9} \\geq 0\\\\\n",
       " & x_{10} \\geq 0\\\\\n",
       " & x_{11} \\geq 0\\\\\n",
       " & x_{12} \\geq 0\\\\\n",
       " & x_{13} \\geq 0\\\\\n",
       " & x_{14} \\geq 0\\\\\n",
       " & x_{15} \\geq 0\\\\\n",
       " & x_{16} \\geq 0\\\\\n",
       " & x_{17} \\geq 0\\\\\n",
       " & x_{18} \\geq 0\\\\\n",
       " & x_{19} \\geq 0\\\\\n",
       " & x_{20} \\geq 0\\\\\n",
       " & x_{21} \\geq 0\\\\\n",
       " & x_{22} \\geq 0\\\\\n",
       " & x_{23} \\geq 0\\\\\n",
       " & x_{24} \\geq 0\\\\\n",
       " & x_{25} \\geq 0\\\\\n",
       " & x_{1} \\leq 1\\\\\n",
       " & x_{2} \\leq 1\\\\\n",
       " & x_{3} \\leq 1\\\\\n",
       " & x_{4} \\leq 1\\\\\n",
       " & x_{5} \\leq 1\\\\\n",
       " & x_{6} \\leq 1\\\\\n",
       " & x_{7} \\leq 1\\\\\n",
       " & x_{8} \\leq 1\\\\\n",
       " & x_{9} \\leq 1\\\\\n",
       " & x_{10} \\leq 1\\\\\n",
       " & x_{11} \\leq 1\\\\\n",
       " & x_{12} \\leq 1\\\\\n",
       " & x_{13} \\leq 1\\\\\n",
       " & x_{14} \\leq 1\\\\\n",
       " & x_{15} \\leq 1\\\\\n",
       " & x_{16} \\leq 1\\\\\n",
       " & x_{17} \\leq 1\\\\\n",
       " & x_{18} \\leq 1\\\\\n",
       " & x_{19} \\leq 1\\\\\n",
       " & x_{20} \\leq 1\\\\\n",
       " & x_{21} \\leq 1\\\\\n",
       " & x_{22} \\leq 1\\\\\n",
       " & x_{23} \\leq 1\\\\\n",
       " & x_{24} \\leq 1\\\\\n",
       " & x_{25} \\leq 1\\\\\n",
       "\\end{aligned} $$"
      ]
     },
     "metadata": {},
     "output_type": "display_data"
    }
   ],
   "source": [
    "print(model)"
   ]
  },
  {
   "cell_type": "code",
   "execution_count": 11,
   "id": "43acb3b3",
   "metadata": {},
   "outputs": [
    {
     "name": "stdout",
     "output_type": "stream",
     "text": [
      "Running HiGHS 1.6.0: Copyright (c) 2023 HiGHS under MIT licence terms\n",
      "Presolving model\n",
      "10 rows, 25 cols, 50 nonzeros\n",
      "9 rows, 25 cols, 45 nonzeros\n",
      "Presolve : Reductions: rows 9(-1); columns 25(-0); elements 45(-5)\n",
      "Solving the presolved LP\n",
      "Using EKK dual simplex solver - serial\n",
      "  Iteration        Objective     Infeasibilities num(sum)\n",
      "          0     0.0000000000e+00 Pr: 9(9) 0s\n",
      "         13     5.0000000000e+00 Pr: 0(0) 0s\n",
      "Solving the original LP from the solution after postsolve\n",
      "Model   status      : Optimal\n",
      "Simplex   iterations: 13\n",
      "Objective value     :  5.0000000000e+00\n",
      "HiGHS run time      :          0.00\n"
     ]
    }
   ],
   "source": [
    "set_optimizer_attribute(model, \"solver\", \"simplex\")\n",
    "\n",
    "optimize!(model)"
   ]
  },
  {
   "cell_type": "code",
   "execution_count": 12,
   "id": "c9ae3064",
   "metadata": {},
   "outputs": [
    {
     "data": {
      "text/plain": [
       "25-element Vector{Float64}:\n",
       "  0.0\n",
       "  1.0\n",
       " -0.0\n",
       "  0.0\n",
       "  0.0\n",
       " -0.0\n",
       "  0.0\n",
       "  1.0\n",
       "  0.0\n",
       "  0.0\n",
       "  0.0\n",
       " -0.0\n",
       "  0.0\n",
       " -0.0\n",
       "  1.0\n",
       "  1.0\n",
       "  0.0\n",
       "  0.0\n",
       "  0.0\n",
       "  0.0\n",
       "  0.0\n",
       "  0.0\n",
       " -0.0\n",
       "  1.0\n",
       "  0.0"
      ]
     },
     "execution_count": 12,
     "metadata": {},
     "output_type": "execute_result"
    }
   ],
   "source": [
    "value.(P.x)"
   ]
  },
  {
   "cell_type": "code",
   "execution_count": null,
   "id": "849a6c25",
   "metadata": {},
   "outputs": [],
   "source": []
  }
 ],
 "metadata": {
  "kernelspec": {
   "display_name": "Julia 1.9.4",
   "language": "julia",
   "name": "julia-1.9"
  },
  "language_info": {
   "file_extension": ".jl",
   "mimetype": "application/julia",
   "name": "julia",
   "version": "1.9.4"
  }
 },
 "nbformat": 4,
 "nbformat_minor": 5
}
